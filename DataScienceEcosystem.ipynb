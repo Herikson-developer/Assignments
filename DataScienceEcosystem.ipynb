{
 "cells": [
  {
   "cell_type": "markdown",
   "id": "d5bddaef-0845-4018-b13e-4068dbfe266a",
   "metadata": {},
   "source": [
    "# Data Science Tools and Ecosystem"
   ]
  },
  {
   "cell_type": "markdown",
   "id": "8a840525-691d-4313-b2a7-bd31954cd4f5",
   "metadata": {},
   "source": [
    "## In this notebook, Data Science Tools and Ecosystem are summarized."
   ]
  },
  {
   "cell_type": "markdown",
   "id": "38b3d59e-79cd-42e0-a3d7-6503187a54e3",
   "metadata": {},
   "source": [
    "## **Objectives:**\n",
    "\n",
    "### - Create a new Jupyter notebook\n",
    "### - List the popular languages that Data Scientist use\n",
    "### - List commonly used libraries used by Data Science\n",
    "### - Create a single column table\n",
    "### - Evaluate arithmetic expressions in Python\n"
   ]
  },
  {
   "cell_type": "markdown",
   "id": "23205096-add3-41fa-bfe6-9e0b6818d9fc",
   "metadata": {
    "jp-MarkdownHeadingCollapsed": true
   },
   "source": [
    "### Some of the popular languages that Data Scientists use are:\n",
    "\n",
    "### 1. Phyton\n",
    "### 2. R\n",
    "### 3. SQL\n",
    "### 4. Julia\n",
    "### 5. Matlab\n",
    "### 6. Scala"
   ]
  },
  {
   "cell_type": "markdown",
   "id": "f9764fa8-72cd-40e5-9661-f14718e62580",
   "metadata": {},
   "source": [
    "### Some of the commonly used libraries used by Data Scientists include:\n",
    "### A. Pandas\n",
    "### B. Numpy\n",
    "### C. Scikit-learn\n",
    "### D. Matplotlib\n",
    "### E. TensorFlow/Pytorch"
   ]
  },
  {
   "cell_type": "markdown",
   "id": "8663298c-93de-451b-a006-ce1b6253bd25",
   "metadata": {},
   "source": [
    "|Data Science Tools|\n",
    "|------------------|\n",
    "|Jupyter Notebook|\n",
    "|VS Code|\n",
    "|Spyder|\n",
    " \n"
   ]
  },
  {
   "cell_type": "markdown",
   "id": "abdb8e59-ae98-4de4-9018-50696b55758f",
   "metadata": {},
   "source": [
    "### Below are a few examples of evaluating arithmetic expressions in Python"
   ]
  },
  {
   "cell_type": "code",
   "execution_count": 4,
   "id": "4cd46d3e-52e5-4aa9-82d1-aa34ea7981b3",
   "metadata": {},
   "outputs": [
    {
     "data": {
      "text/plain": [
       "17"
      ]
     },
     "execution_count": 4,
     "metadata": {},
     "output_type": "execute_result"
    }
   ],
   "source": [
    "# This a simple arithmetic expression to multiply then add integers\n",
    "(3*4)+5"
   ]
  },
  {
   "cell_type": "code",
   "execution_count": 6,
   "id": "be9e44dc-c34e-44ca-95e9-848a8e18bd00",
   "metadata": {},
   "outputs": [
    {
     "data": {
      "text/plain": [
       "3.3333333333333335"
      ]
     },
     "execution_count": 6,
     "metadata": {},
     "output_type": "execute_result"
    }
   ],
   "source": [
    "# This will convert 200 minutes to hours by diving by 60.\n",
    "(200/60)"
   ]
  },
  {
   "cell_type": "markdown",
   "id": "e4744f4d-75d0-4773-86d3-3a25fe1563ca",
   "metadata": {},
   "source": [
    "## **Author**\n",
    "##### Herikson Garcia"
   ]
  },
  {
   "cell_type": "code",
   "execution_count": null,
   "id": "2549d952-5eb3-448f-be00-3e6c7f4c2b10",
   "metadata": {},
   "outputs": [],
   "source": []
  }
 ],
 "metadata": {
  "kernelspec": {
   "display_name": "anaconda-ai-2024.04-py310",
   "language": "python",
   "name": "conda-env-anaconda-ai-2024.04-py310-py"
  },
  "language_info": {
   "codemirror_mode": {
    "name": "ipython",
    "version": 3
   },
   "file_extension": ".py",
   "mimetype": "text/x-python",
   "name": "python",
   "nbconvert_exporter": "python",
   "pygments_lexer": "ipython3",
   "version": "3.10.13"
  }
 },
 "nbformat": 4,
 "nbformat_minor": 5
}
