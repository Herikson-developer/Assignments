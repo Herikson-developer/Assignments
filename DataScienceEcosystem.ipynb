{
 "cells": [
  {
   "cell_type": "code",
   "execution_count": null,
   "id": "a41b3f67-d7e3-4f87-9bb3-abde5f4f428d",
   "metadata": {},
   "outputs": [],
   "source": [
    "# Exercise 2: Create markdown cell with title of the notebook"
   ]
  },
  {
   "cell_type": "markdown",
   "id": "5e904b96-3319-443a-a896-f96ad4648333",
   "metadata": {},
   "source": [
    "# Data Science Tools and Ecosystem"
   ]
  },
  {
   "cell_type": "code",
   "execution_count": null,
   "id": "56dfd9cf-1637-4abe-92ec-ed2e4df92935",
   "metadata": {
    "jp-MarkdownHeadingCollapsed": true
   },
   "outputs": [],
   "source": [
    "# Exercise 3 - Create a markdown cell for an introduction"
   ]
  },
  {
   "cell_type": "markdown",
   "id": "ec9fb2f4-fd41-49d7-817c-dd75b752f1fd",
   "metadata": {},
   "source": [
    "## In this notebook, Data Science Tools and Ecosystem are summarized."
   ]
  },
  {
   "cell_type": "code",
   "execution_count": null,
   "id": "b2bc9932-6873-42c9-a04b-5de19f5de180",
   "metadata": {},
   "outputs": [],
   "source": [
    "# Exercise 10 - Insert a markdown cell to list Objectives"
   ]
  },
  {
   "cell_type": "markdown",
   "id": "29129d6a-e1c9-4e26-b50f-f6e0c7200793",
   "metadata": {},
   "source": [
    "## **Objectives:**\n",
    "### - Create a new Jupyter Notebook\n",
    "### - List popular languages for Data Science\n",
    "### - List commonly used libraries in Data Science\n",
    "### - Create a table\n",
    "### - Evaluate arithmetic expressions"
   ]
  },
  {
   "cell_type": "code",
   "execution_count": null,
   "id": "170a26a2-bd16-42b1-8e80-b13bb6a7459f",
   "metadata": {},
   "outputs": [],
   "source": [
    "# Exercise 4 - Create a markdown cell to list data science languages"
   ]
  },
  {
   "cell_type": "markdown",
   "id": "ab809a70-d8c4-4db5-b881-d790199c7498",
   "metadata": {},
   "source": [
    "### Some of the popular languages that Data Scientists use are:\n",
    "#### - 1. Phyton\n",
    "#### - 2. R\n",
    "#### - 3. SQL\n"
   ]
  },
  {
   "cell_type": "code",
   "execution_count": null,
   "id": "8b5b108b-982f-40c0-906f-92575da4ba44",
   "metadata": {},
   "outputs": [],
   "source": [
    "# Exercise 5 - Create a markdown cell to list data science libraries"
   ]
  },
  {
   "cell_type": "markdown",
   "id": "c70b18bc-ffce-40ea-9091-01d421b16983",
   "metadata": {},
   "source": [
    "### Some of the commonly used libraries used by Data Scientists include:\n",
    "\n",
    "#### A. Pandas\n",
    "#### B. Numpy\n",
    "#### C. Scikit-learn\n",
    "#### D. Matplotlib\n",
    "#### E. Seaborn\n",
    "#### F. TensorFlow"
   ]
  },
  {
   "cell_type": "code",
   "execution_count": null,
   "id": "43c1aef4-83e0-4d51-9d68-8ccb10332948",
   "metadata": {},
   "outputs": [],
   "source": [
    "# Exercise 6 - Create a markdown cell with a table of Data Science tools"
   ]
  },
  {
   "cell_type": "markdown",
   "id": "5698921c-01cc-4359-a372-cfc565007ec4",
   "metadata": {},
   "source": [
    "|Data Science Tools|\n",
    "|------------------|\n",
    "|Jupyter Notebook|\n",
    "|VS Code|\n",
    "|Google Colab|\n"
   ]
  },
  {
   "cell_type": "code",
   "execution_count": null,
   "id": "8c953da0-35d7-40c6-83ea-8c408ef80ef8",
   "metadata": {},
   "outputs": [],
   "source": [
    "# Exercise 7 - Create a markdown cell introducing arithmetic expression examples"
   ]
  },
  {
   "cell_type": "markdown",
   "id": "45cee5b3-eef5-47a0-b7c8-a7e649cd48a8",
   "metadata": {},
   "source": [
    "### Below are a few examples of evaluating arithmetic expressions in Python"
   ]
  },
  {
   "cell_type": "code",
   "execution_count": null,
   "id": "dd70a237-8c5f-4bc0-bb1e-94f32ab699ac",
   "metadata": {},
   "outputs": [],
   "source": [
    "# Exercise 8 - Create a code cell to multiply and add numbers"
   ]
  },
  {
   "cell_type": "code",
   "execution_count": 6,
   "id": "c88d61a3-4fd2-41e5-9284-1a1774fc26dc",
   "metadata": {},
   "outputs": [
    {
     "data": {
      "text/plain": [
       "17"
      ]
     },
     "execution_count": 6,
     "metadata": {},
     "output_type": "execute_result"
    }
   ],
   "source": [
    "# This a simple arithmetic expression to multiply then add integers\n",
    "(3*4)+5"
   ]
  },
  {
   "cell_type": "code",
   "execution_count": null,
   "id": "b0c5f802-97a4-49f7-a3cb-96f76996c672",
   "metadata": {},
   "outputs": [],
   "source": [
    "# Exercise 9 - Create a code cell to convert minutes to hours"
   ]
  },
  {
   "cell_type": "code",
   "execution_count": 7,
   "id": "cb85c2f1-f6f9-46bb-8d1c-73c962cd4df0",
   "metadata": {},
   "outputs": [
    {
     "data": {
      "text/plain": [
       "3.3333333333333335"
      ]
     },
     "execution_count": 7,
     "metadata": {},
     "output_type": "execute_result"
    }
   ],
   "source": [
    "# This will convert 200 minutes to hours by diving by 60\n",
    "(200/60)"
   ]
  },
  {
   "cell_type": "code",
   "execution_count": null,
   "id": "a424290a-4f0e-46a2-b8ac-b67c6fa17ef1",
   "metadata": {},
   "outputs": [],
   "source": [
    "Exercise 11 - Create a markdown cell to indicate the Author's name"
   ]
  },
  {
   "cell_type": "markdown",
   "id": "239a93e4-21f1-4082-b80c-d75ea09d7710",
   "metadata": {},
   "source": [
    "## Author\n",
    "#### Herikson Garcia Peña"
   ]
  },
  {
   "cell_type": "code",
   "execution_count": null,
   "id": "08d66a89-d88b-4f82-b0b7-3f6ccd8fd390",
   "metadata": {},
   "outputs": [],
   "source": []
  }
 ],
 "metadata": {
  "kernelspec": {
   "display_name": "Python 3 (ipykernel)",
   "language": "python",
   "name": "python3"
  },
  "language_info": {
   "codemirror_mode": {
    "name": "ipython",
    "version": 3
   },
   "file_extension": ".py",
   "mimetype": "text/x-python",
   "name": "python",
   "nbconvert_exporter": "python",
   "pygments_lexer": "ipython3",
   "version": "3.12.8"
  }
 },
 "nbformat": 4,
 "nbformat_minor": 5
}
